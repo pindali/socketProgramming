{
 "cells": [
  {
   "cell_type": "code",
   "execution_count": 10,
   "metadata": {},
   "outputs": [],
   "source": [
    "import numpy as np\n",
    "import time"
   ]
  },
  {
   "cell_type": "code",
   "execution_count": null,
   "metadata": {},
   "outputs": [],
   "source": [
    "startTime = time.time()\n",
    "l = [numpy.random.randint(101) for i in range(100000)]\n",
    "tmp = []\n",
    "l.sort()\n",
    "# tmp.append(l[0])\n",
    "# for i in range(1,len(l)):\n",
    "#     if l[i] != l[i-1]:\n",
    "#         tmp.append(l[i])\n",
    "    \n",
    "lastTime = time.time()\n",
    "print(lastTime - startTime)"
   ]
  },
  {
   "cell_type": "code",
   "execution_count": 28,
   "metadata": {},
   "outputs": [
    {
     "name": "stdout",
     "output_type": "stream",
     "text": [
      "0.2830066680908203\n"
     ]
    }
   ],
   "source": [
    "startTime = time.time()\n",
    "l = [numpy.random.randint(101) for i in range(100000)]\n",
    "tmp = []\n",
    "for i in  l:\n",
    "    if i not in tmp:\n",
    "        tmp.append(i)\n",
    "    \n",
    "lastTime = time.time()\n",
    "print(lastTime - startTime)"
   ]
  },
  {
   "cell_type": "code",
   "execution_count": null,
   "metadata": {},
   "outputs": [],
   "source": []
  },
  {
   "cell_type": "code",
   "execution_count": null,
   "metadata": {},
   "outputs": [],
   "source": []
  },
  {
   "cell_type": "code",
   "execution_count": null,
   "metadata": {},
   "outputs": [],
   "source": []
  }
 ],
 "metadata": {
  "kernelspec": {
   "display_name": "Python 3",
   "language": "python",
   "name": "python3"
  },
  "language_info": {
   "codemirror_mode": {
    "name": "ipython",
    "version": 3
   },
   "file_extension": ".py",
   "mimetype": "text/x-python",
   "name": "python",
   "nbconvert_exporter": "python",
   "pygments_lexer": "ipython3",
   "version": "3.7.6"
  }
 },
 "nbformat": 4,
 "nbformat_minor": 4
}
